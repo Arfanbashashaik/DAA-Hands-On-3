{
  "nbformat": 4,
  "nbformat_minor": 0,
  "metadata": {
    "colab": {
      "provenance": [],
      "authorship_tag": "ABX9TyPgsPFbHF15UsXGMhysFG31",
      "include_colab_link": true
    },
    "kernelspec": {
      "name": "python3",
      "display_name": "Python 3"
    },
    "language_info": {
      "name": "python"
    }
  },
  "cells": [
    {
      "cell_type": "markdown",
      "metadata": {
        "id": "view-in-github",
        "colab_type": "text"
      },
      "source": [
        "<a href=\"https://colab.research.google.com/github/Arfanbashashaik/DAA-Hands-On-3/blob/main/question_6(merge_sort).ipynb\" target=\"_parent\"><img src=\"https://colab.research.google.com/assets/colab-badge.svg\" alt=\"Open In Colab\"/></a>"
      ]
    },
    {
      "cell_type": "code",
      "execution_count": 10,
      "metadata": {
        "colab": {
          "base_uri": "https://localhost:8080/"
        },
        "id": "GiujbTzvwfz4",
        "outputId": "1a78b0b2-7280-480b-fb8e-7d9d43d1f3db"
      },
      "outputs": [
        {
          "output_type": "stream",
          "name": "stdout",
          "text": [
            "Sorted list: [1, 2, 2, 3, 4, 5, 6, 7]\n"
          ]
        }
      ],
      "source": [
        "#merge sort algorithm\n",
        "def sort_array(elements):\n",
        "    if len(elements) <= 1:\n",
        "        return elements\n",
        "    middle_index=len(elements) // 2\n",
        "    left_segment=sort_array(elements[:middle_index])\n",
        "    right_segment=sort_array(elements[middle_index:])\n",
        "    return combine_segments(left_segment, right_segment)\n",
        "def combine_segments(left_segment, right_segment):\n",
        "    sorted_elements=[]\n",
        "    left_pointer=0\n",
        "    right_pointer=0\n",
        "    while left_pointer < len(left_segment) and right_pointer < len(right_segment):\n",
        "        if left_segment[left_pointer] < right_segment[right_pointer]:\n",
        "            sorted_elements.append(left_segment[left_pointer])\n",
        "            left_pointer += 1\n",
        "        else:\n",
        "            sorted_elements += [right_segment[right_pointer]]\n",
        "            right_pointer += 1\n",
        "    sorted_elements.extend(left_segment[left_pointer:])\n",
        "    sorted_elements.extend(right_segment[right_pointer:])\n",
        "    return sorted_elements\n",
        "if __name__ == \"__main__\":\n",
        "    initial_list = [5, 2, 4, 7, 1, 3, 2, 6]\n",
        "    sorted_list = sort_array(initial_list)\n",
        "    print(\"Sorted list:\", sorted_list)\n",
        "\n"
      ]
    },
    {
      "cell_type": "code",
      "source": [],
      "metadata": {
        "id": "baN_tH2r2LDn"
      },
      "execution_count": null,
      "outputs": []
    }
  ]
}